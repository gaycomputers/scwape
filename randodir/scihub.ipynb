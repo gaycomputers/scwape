{
 "cells": [
  {
   "attachments": {},
   "cell_type": "markdown",
   "metadata": {},
   "source": [
    "### scrape hub"
   ]
  },
  {
   "cell_type": "code",
   "execution_count": 89,
   "metadata": {},
   "outputs": [],
   "source": [
    "#from urllib.request import urlopen, Request, urlretrieve\n",
    "import requests\n",
    "from selenium import webdriver\n",
    "from selenium.webdriver.chrome.options import Options\n",
    "from selenium.webdriver.common.by import By\n",
    "from selenium.webdriver.support.ui import WebDriverWait\n",
    "from selenium.webdriver.support import expected_conditions as EC\n",
    "from selenium.webdriver.common.by import By\n",
    "from selenium.common.exceptions import TimeoutException\n",
    "from selenium.webdriver.common.keys import Keys\n",
    "import re\n",
    "\n",
    "DRIVER_PATH = '/usr/sbin/chromedriver'\n",
    "URLS = \"./sorted.txt\"\n",
    "OUTPUT = \"./output\"\n",
    "FAILED = \"./failure.txt\""
   ]
  },
  {
   "cell_type": "code",
   "execution_count": 2,
   "metadata": {
    "vscode": {
     "languageId": "shellscript"
    }
   },
   "outputs": [
    {
     "data": {
      "text/plain": [
       "'/home/peat/hack/scwape/randodir'"
      ]
     },
     "execution_count": 2,
     "metadata": {},
     "output_type": "execute_result"
    }
   ],
   "source": [
    "pwd"
   ]
  },
  {
   "cell_type": "code",
   "execution_count": 90,
   "metadata": {},
   "outputs": [
    {
     "name": "stderr",
     "output_type": "stream",
     "text": [
      "/tmp/ipykernel_25960/559492227.py:10: DeprecationWarning: executable_path has been deprecated, please pass in a Service object\n",
      "  driver = webdriver.Chrome(options=options, executable_path=DRIVER_PATH)\n"
     ]
    }
   ],
   "source": [
    "options = Options()\n",
    "options.headless = False\n",
    "options.add_argument(\"--window-size=1920,1200\")\n",
    "profile = {\"plugins.plugins_list\": [{\"enabled\": False, \"name\": \"Chrome PDF Viewer\"}], # Disable Chrome's PDF Viewer\n",
    "               \"download.default_directory\": OUTPUT ,\n",
    "               \"download.directory_upgrade\": True,\n",
    "               \"plugins.always_open_pdf_externally\": True,\n",
    "               \"download.extensions_to_open\": \"applications/pdf\"}\n",
    "options.add_experimental_option(\"prefs\", profile)\n",
    "driver = webdriver.Chrome(options=options, executable_path=DRIVER_PATH)\n",
    "driver.implicitly_wait(0.5)\n",
    "pdf= re.compile('^location\\.href=\\'(.*)\\'$')\n",
    "headers = {'User-Agent': 'Mozilla/5.0 (X11; Linux x86_64) ' \n",
    "                      'AppleWebKit/537.11 (KHTML, like Gecko) '\n",
    "                      'Chrome/23.0.1271.64 Safari/537.11',\n",
    "        'Accept': 'text/html,application/xhtml+xml,application/xml;q=0.9,*/*;q=0.8',\n",
    "        'Accept-Charset': 'ISO-8859-1,utf-8;q=0.7,*;q=0.3',\n",
    "        'Accept-Encoding': 'none',\n",
    "        'Accept-Language': 'en-US,en;q=0.8',\n",
    "        'Connection': 'keep-alive'}"
   ]
  },
  {
   "cell_type": "code",
   "execution_count": 64,
   "metadata": {},
   "outputs": [],
   "source": [
    "filesizeregex = re.compile(\"  (\\d*\\.?\\d+)(?=[KMGT])([KMGT])(?:i?B)?|B?$\")"
   ]
  },
  {
   "cell_type": "code",
   "execution_count": 51,
   "metadata": {},
   "outputs": [],
   "source": [
    "def scalar(bytescale):\n",
    "    if bytescale[0] == 'b' or bytescale[0] == 'B':\n",
    "        return 1\n",
    "    elif bytescale[0] == 'k' or bytescale[0] == 'K':\n",
    "        return 1000\n",
    "    elif bytescale[0] == 'm' or bytescale[0] == 'M':\n",
    "        return 1000000\n",
    "    elif bytescale[0] == 'g' or bytescale[0] == 'G':\n",
    "        return 1000000000\n",
    "    elif bytescale[0] == 't' or bytescale[0] == 'T':\n",
    "        return 1000000000000"
   ]
  },
  {
   "cell_type": "code",
   "execution_count": 97,
   "metadata": {},
   "outputs": [],
   "source": [
    "start = 'https://www.kgay4all.com/'\n",
    "\n",
    "def recurse(nuyurl):\n",
    "        filesizes = 0\n",
    "        dirlist = []\n",
    "        filelist = []\n",
    "        driver.switch_to.new_window('tab')\n",
    "        t=driver.window_handles[-1]\n",
    "        driver.switch_to.window(t)\n",
    "        driver.get(nuyurl)\n",
    "        WebDriverWait(driver, 5).until( lambda wd: driver.execute_script(\"return document.readyState\") == 'complete', \"Page taking too long to load\")\n",
    "        while(driver.title == 'HTML Redirect'):\n",
    "                WebDriverWait(driver, 5).until( lambda wd: driver.execute_script(\"return document.readyState\") == 'complete', \"Page taking too long to load\")\n",
    "                #this is where you can add a proxy rotator after a certain amount of non-loading\n",
    "        elems = driver.find_elements(By.XPATH, \"//a[@href]\")\n",
    "        #print(driver.page_source)\n",
    "        for filesize in filesizeregex.findall(driver.page_source):\n",
    "                if(filesize[0] != ''):\n",
    "                        filesizes = filesizes + int(filesize[0]) * scalar(filesize[1])\n",
    "        for elem in elems:\n",
    "                href = elem.get_attribute(\"href\")\n",
    "                if href != nuyurl and href not in nuyurl:\n",
    "                        if href.endswith('/'):\n",
    "                                (temp_dir, temp_file, temp_filesize) = recurse(href)\n",
    "                                dirlist = dirlist + [href]\n",
    "                                dirlist = dirlist + temp_dir\n",
    "                                filelist = filelist + temp_file\n",
    "                                filesizes = filesizes + temp_filesize\n",
    "                                driver.switch_to.window(t)\n",
    "                        else:\n",
    "                                filelist = filelist + [href]\n",
    "                #print(elem.get_attribute(\"href\"))\n",
    "        driver.close()\n",
    "        return (dirlist, filelist, filesizes)"
   ]
  },
  {
   "cell_type": "code",
   "execution_count": 98,
   "metadata": {},
   "outputs": [],
   "source": [
    "recursed = recurse(start)"
   ]
  },
  {
   "cell_type": "code",
   "execution_count": 54,
   "metadata": {},
   "outputs": [
    {
     "name": "stdout",
     "output_type": "stream",
     "text": [
      "([], [], 0)\n"
     ]
    }
   ],
   "source": [
    "print(recursed)"
   ]
  },
  {
   "cell_type": "markdown",
   "metadata": {},
   "source": [
    "## OLD NOT USED"
   ]
  },
  {
   "cell_type": "raw",
   "metadata": {},
   "source": [
    "pdffound = []\n",
    "cantdoit = []\n",
    "for url in open(URLS, \"r\"):\n",
    "    yurl = 'https://sci-hub.ru/'+url\n",
    "    driver.get(yurl)\n",
    "    try:\n",
    "        button = driver.find_element(By.TAG_NAME, \"button\")\n",
    "        #print(dir(button))\n",
    "        #print(button.get_attribute('onclick'))\n",
    "        pdfloc = pdf.search(button.get_attribute('onclick'))\n",
    "        title = driver.find_element(By.TAG_NAME, \"title\")\n",
    "        #print(dir(title))\n",
    "        #print(title.get_attribute(\"innerHTML\"))\n",
    "        #print(pdfloc.group(1))\n",
    "        pdffound.append((title.get_attribute(\"innerHTML\"), pdfloc.group(1)))\n",
    "    except:\n",
    "        cantdoit.append(yurl)\n",
    "        "
   ]
  },
  {
   "cell_type": "raw",
   "metadata": {},
   "source": [
    "for (title, pdfname) in pdffound:\n",
    "        yurl = \"https://sci-hub.ru\"+pdfname\n",
    "        driver.get(yurl)"
   ]
  },
  {
   "cell_type": "raw",
   "metadata": {},
   "source": [
    "with open(FAILED, \"w\") as failed:\n",
    "    for failure in cantdoit:\n",
    "        failed.write(failure+\"\\n\")"
   ]
  },
  {
   "cell_type": "raw",
   "metadata": {
    "tags": [
     "testing only"
    ]
   },
   "source": [
    "test = ['/tree/c2/3a/c23a3459e20e91ee4c7e0d75ccaa6478.pdf?download=true', '/downloads/2022-11-05/2f/mueller2022.pdf?download=true', '/downloads/2022-11-05/05/teece2022.pdf?download=true', '/downloads/2021-06-20/35/the-new-chinese-dream-2021.pdf?download=true', '/downloads/2021-05-13//5c/mateus-coelho2021.pdf?download=true', '/downloads/2021-06-14/d8/ververis2019.pdf?download=true', '/downloads/2019-09-06/87/10.1109@ICMA.2019.8816635.pdf?download=true', '/downloads/2020-08-04/89/10.1109@TC.2020.3011748.pdf?download=true', '//zero.sci-hub.ru/4363/5ab5270fc626a266883c512d2d8034c4/chen2012.pdf?download=true', '/downloads/2021-06-14/4b/neumann2018.pdf?download=true', '/downloads/2022-11-03/2c/gross2021.pdf?download=true', '//moscow.sci-hub.ru/3138/e0c12beb5f3889671b12f29237d064e7/lely2010.pdf?download=true', '/downloads/2021-08-11/71/erbsen2021.pdf?download=true', '/downloads/2019-02-20/ec/10.1038@s41598-018-38181-3.pdf?download=true', '//moscow.sci-hub.ru/2767/84f6cbed655dc7bd97e6fe97fd6d9ad7/nane2012.pdf?download=true', '/downloads/2021-06-13/c4/zhang2015.pdf?download=true', '/downloads/2022-11-08/41/patel2022.pdf?download=true', '//zero.sci-hub.ru/6028/4ab92b00e6d79f2664cc7fdedefad3d0/yazdanbakhsh2015.pdf?download=true', '//zero.sci-hub.ru/3115/30813df8efb50c31e4afd4e1ffa5d556/li2014.pdf?download=true', '//moscow.sci-hub.ru/4361/d9d13c177d89c81ee52ae7584196163b/demicheli1999.pdf?download=true', '//moscow.sci-hub.ru/3568/60a8f372d867aff41fb0861789c66567/seol2015.pdf?download=true', '/downloads/2019-10-21/63/li2018.pdf?download=true', '/tree/46/6d/466d6e6dcaa68bc76f2771e09a4202ee.pdf?download=true', '//zero.sci-hub.ru/4363/5ab5270fc626a266883c512d2d8034c4/chen2012.pdf?download=true', '//moscow.sci-hub.ru/4375/a7dcfcb684881a1ab659e120a532c5ac/reina2012.pdf?download=true', '//moscow.sci-hub.ru/4371/8171f06364881f8ba0c08d97e5292fe7/li2011.pdf?download=true', '/uptodate/S1383762121001661.pdf?download=true', '/downloads/2021-06-23/7c/dave2021.pdf?download=true', '/downloads/2022-11-24/32/secure-it-systems-2021.pdf?download=true', '/downloads/2020-07-27/4f/kumar2020.pdf?download=true', '/downloads/2021-06-15/59/streit2020.pdf?download=true', '//zero.sci-hub.ru/805/4ab3aa099153eb66854c186e1f4d9f78/hu2005.pdf?download=true', '//zero.sci-hub.ru/6410/0f0eacfbe6bd7c71fefe28ffe70875ef/xu2017.pdf?download=true', '//moscow.sci-hub.ru/1817/818afecabb9bcaa6e387115a408037be/hu2009.pdf?download=true', '//moscow.sci-hub.ru/1436/6c700337c4996feae01082b76cba94d3/fan2012.pdf?download=true', '/downloads/2022-11-06/b1/nan2019.pdf?download=true', '//zero.sci-hub.ru/3434/09420f2c228ed8ce3da5839b5c0bf416/linhan2008.pdf?download=true', '//zero.sci-hub.ru/6091/2f7899b580330ef70f9c970218d352e0/cousins2016.pdf?download=true', '//moscow.sci-hub.ru/3367/723fb17d4e5b856ffedd47c5feb55e49/li2012.pdf?download=true']\n",
    "#print(pdffound)\n",
    "for (m,n) in pdffound:\n",
    "    if n not in test:\n",
    "        print(\"test failed for:\")\n",
    "        print(n)\n",
    "    else:\n",
    "        test.remove(n)\n",
    "        \n",
    "print(test)"
   ]
  },
  {
   "cell_type": "raw",
   "metadata": {},
   "source": [
    "for (title, pdfname) in pdffound:\n",
    "        yurl = \"https://sci-hub.ru\"+pdfname\n",
    "        print(yurl)     \n",
    "        r = requests.get(yurl, headers=headers)\n",
    "        print(r)\n",
    "        titlefile = OUTPUT+title.replace(\" \", \"\").replace(\">\",\"\").replace(\"<\",\"\").replace(\"|\",\"\").replace(\"/\",\"\")+\".pdf\"\n",
    "        print(titlefile)\n",
    "        pdf = open(titlefile, \"wb\")\n",
    "        pdf.write(r.content)\n",
    "        pdf.close()\n",
    "        break"
   ]
  },
  {
   "cell_type": "raw",
   "metadata": {},
   "source": [
    "headers = {'User-Agent': 'Mozilla/5.0 (X11; Linux x86_64) ' \n",
    "                      'AppleWebKit/537.11 (KHTML, like Gecko) '\n",
    "                      'Chrome/23.0.1271.64 Safari/537.11',\n",
    "        'Accept': 'text/html,application/xhtml+xml,application/xml;q=0.9,*/*;q=0.8',\n",
    "        'Accept-Charset': 'ISO-8859-1,utf-8;q=0.7,*;q=0.3',\n",
    "        'Accept-Encoding': 'none',\n",
    "        'Accept-Language': 'en-US,en;q=0.8',\n",
    "        'Connection': 'keep-alive'}\n",
    "#output = open(OUTPUT,\"w\")\n",
    "for url in open(URLS,\"r\"):\n",
    "    #print(url)\n",
    "    request = Request(url='https://sci-hub.ru/'+url,headers=headers)\n",
    "    print(dir(request))\n",
    "    print(request.full_url)\n",
    "    print('https://sci-hub.ru/https://dl.acm.org/doi/10.1145/3278532.3278555' == str(request.full_url))\n",
    "    page = urlopen(request)\n",
    "    hbytes = page.read()\n",
    "    html = hbytes.decode(\"utf-8\")\n",
    "    print(html)\n",
    "    #sname_match = name.search(html)\n",
    "    "
   ]
  }
 ],
 "metadata": {
  "kernelspec": {
   "display_name": "Python 3.10.8 ('rust')",
   "language": "python",
   "name": "python3"
  },
  "language_info": {
   "codemirror_mode": {
    "name": "ipython",
    "version": 3
   },
   "file_extension": ".py",
   "mimetype": "text/x-python",
   "name": "python",
   "nbconvert_exporter": "python",
   "pygments_lexer": "ipython3",
   "version": "3.10.8"
  },
  "orig_nbformat": 4,
  "vscode": {
   "interpreter": {
    "hash": "650a391e1f9917ebf8ac2b170ac42d9265f6080c3500884f621dc5d8382077f6"
   }
  }
 },
 "nbformat": 4,
 "nbformat_minor": 2
}
