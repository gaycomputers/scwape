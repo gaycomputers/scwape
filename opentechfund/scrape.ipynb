{
 "cells": [
  {
   "cell_type": "markdown",
   "metadata": {},
   "source": [
    "### I built this to investigate what type of projects fellows did at open tech fund. It has a ton of bugs and missed some results but it worked enough for me to read and get a gist of the funds vibes. The regex are a complete brute force and as such should not be relied on or touched with a 30 foot pole."
   ]
  },
  {
   "cell_type": "code",
   "execution_count": 70,
   "metadata": {},
   "outputs": [],
   "source": [
    "from urllib.request import urlopen, Request\n",
    "import re\n",
    "URLS = \"./urls.txt\"\n",
    "OUTPUT = \"./scrape.txt\""
   ]
  },
  {
   "cell_type": "code",
   "execution_count": 71,
   "metadata": {},
   "outputs": [],
   "source": [
    "name = re.compile('<title>.*\\| (.*)<\\/title>')\n",
    "description = [re.compile('(?:<h4 class=\\\"heading heading--person-introduction\\\">(.*)<\\/h4>\\n((?:<p.*>.*<\\/p>\\n)+))'), re.compile('(?:<h4 class=\"heading\">(.*)<\\/h4>\\n[\\s\\S]*(<p data-block-key.*>.*<\\/p>\\n))'), re.compile('(?:<h4 class=\"heading\">(.*)<\\/h4>\\n(.*<\\/p>\\n)+[\\s]*(?:</div>))'), re.compile('(?:<h. class=\"heading.*>(.*)<\\/h.>\\n[\\s\\S]*(<p.*>.*<\\/p>\\n))') , re.compile('(?:<h4 class=\\\"heading heading--person-introduction\\\">(.*)<\\/h4>\\n((?:<p.*>.*<\\/p>\\n)*))<\\/div>')]\n",
    "description_dissector = re.compile('<p.*>(.*)<\\/p>\\n')"
   ]
  },
  {
   "cell_type": "code",
   "execution_count": 72,
   "metadata": {},
   "outputs": [],
   "source": [
    "headers = {'User-Agent': 'Mozilla/5.0 (X11; Linux x86_64) ' \n",
    "                      'AppleWebKit/537.11 (KHTML, like Gecko) '\n",
    "                      'Chrome/23.0.1271.64 Safari/537.11',\n",
    "        'Accept': 'text/html,application/xhtml+xml,application/xml;q=0.9,*/*;q=0.8',\n",
    "        'Accept-Charset': 'ISO-8859-1,utf-8;q=0.7,*;q=0.3',\n",
    "        'Accept-Encoding': 'none',\n",
    "        'Accept-Language': 'en-US,en;q=0.8',\n",
    "        'Connection': 'keep-alive'}\n",
    "output = open(OUTPUT,\"w\")\n",
    "for url in open(URLS,\"r\"):\n",
    "    #print(url)\n",
    "    request = Request(url=url,headers=headers)\n",
    "    page = urlopen(request)\n",
    "    hbytes = page.read()\n",
    "    html = hbytes.decode(\"utf-8\")\n",
    "    name_match = name.search(html)\n",
    "    #print(name_match.group(1))\n",
    "    output.write(name_match.group(1)+\"\\n\")\n",
    "    tryhell = 0\n",
    "    try:\n",
    "        description_match = description[0].search(html)\n",
    "        tryhell += 1\n",
    "        title = description_match.group(1)\n",
    "        test = description_match.group(2)\n",
    "    except:\n",
    "        try:\n",
    "            description_match = description[1].search(html)\n",
    "            tryhell += 1\n",
    "            title = description_match.group(1)\n",
    "            test = description_match.group(2)\n",
    "        except:\n",
    "            try:\n",
    "                description_match = description[2].search(html)\n",
    "                tryhell += 1\n",
    "                title = description_match.group(1)\n",
    "                test = description_match.group(2)\n",
    "            except:\n",
    "                try:\n",
    "                    description_match = description[3].search(html)\n",
    "                    tryhell += 1\n",
    "                    title = description_match.group(1)\n",
    "                    test = description_match.group(2)\n",
    "                except:\n",
    "                    description_match = description[4].search(html)\n",
    "                    tryhell += 1\n",
    "                    try:\n",
    "                        title = description_match.group(1)\n",
    "                        test = \"<p>empty</p>\"+\"\\n\" #feeed the cookie monster\n",
    "                    except:\n",
    "                        test = \"<p>empty</p>\"+\"\\n\" #feeed the cookie monster\n",
    "    #print(test)\n",
    "    #print(tryhell)\n",
    "    #print(description_match.groups())\n",
    "    #print(title)\n",
    "    output.write(title+\"\\n\")\n",
    "    dissector_match = description_dissector.search(test)\n",
    "    #print(dissector_match.group(1))\n",
    "    output.write(dissector_match.group(1)+\"\\n\")\n",
    "    #print(\"\\n\")\n",
    "    output.write(\"\\n\")"
   ]
  }
 ],
 "metadata": {
  "kernelspec": {
   "display_name": "Python 3.10.9 64-bit",
   "language": "python",
   "name": "python3"
  },
  "language_info": {
   "codemirror_mode": {
    "name": "ipython",
    "version": 3
   },
   "file_extension": ".py",
   "mimetype": "text/x-python",
   "name": "python",
   "nbconvert_exporter": "python",
   "pygments_lexer": "ipython3",
   "version": "3.10.9"
  },
  "orig_nbformat": 4,
  "vscode": {
   "interpreter": {
    "hash": "d2152fd7f0bbc62aa1baff8c990435d1e2c7175d001561303988032604c11a48"
   }
  }
 },
 "nbformat": 4,
 "nbformat_minor": 2
}
